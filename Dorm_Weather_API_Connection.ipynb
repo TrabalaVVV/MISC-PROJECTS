{
 "cells": [
  {
   "cell_type": "code",
   "execution_count": 25,
   "metadata": {},
   "outputs": [],
   "source": [
    "# Importing modules...\n",
    "import requests\n",
    "import time\n",
    "import tkinter as tk"
   ]
  },
  {
   "cell_type": "code",
   "execution_count": 14,
   "metadata": {},
   "outputs": [
    {
     "name": "stdout",
     "output_type": "stream",
     "text": [
      "Geo location of the zip code:  {'zip': '1098 XK', 'name': 'Amsterdam', 'lat': 52.3548, 'lon': 4.9497, 'country': 'NL'}\n"
     ]
    }
   ],
   "source": [
    "# Getting the geo coordinates (location of my dorms) via the GeoCoding API\n",
    "api_key = \"fb78a0cbdcf0d89cd463cd6e9650b621\"\n",
    "zip_code = \"1098XK\"\n",
    "country_code = \"NL\"\n",
    "\n",
    "geo_url = f\"http://api.openweathermap.org/geo/1.0/zip?zip={zip_code},{country_code}&appid={api_key}\"\n",
    "\n",
    "response = requests.get(geo_url)\n",
    "print('Geo location of the zip code: ', response.json())"
   ]
  },
  {
   "cell_type": "code",
   "execution_count": 16,
   "metadata": {},
   "outputs": [
    {
     "name": "stdout",
     "output_type": "stream",
     "text": [
      "Current weather info at the dorms:  {'coord': {'lon': 4.9497, 'lat': 52.3548}, 'weather': [{'id': 500, 'main': 'Rain', 'description': 'light rain', 'icon': '10d'}], 'base': 'stations', 'main': {'temp': 12.93, 'feels_like': 12.37, 'temp_min': 11.66, 'temp_max': 14.01, 'pressure': 999, 'humidity': 80}, 'visibility': 10000, 'wind': {'speed': 2.57, 'deg': 340}, 'rain': {'1h': 0.17}, 'clouds': {'all': 40}, 'dt': 1698755182, 'sys': {'type': 2, 'id': 2016069, 'country': 'NL', 'sunrise': 1698733997, 'sunset': 1698768853}, 'timezone': 3600, 'id': 2756887, 'name': 'Gemeente Diemen', 'cod': 200}\n"
     ]
    }
   ],
   "source": [
    "# Plugging the geo coordinates of the dorms into the OpenWeatherAPI\n",
    "\n",
    "lat = 52.3548\n",
    "lon = 4.9497\n",
    "\n",
    "weather_url = f\"https://api.openweathermap.org/data/2.5/weather?lat={lat}&lon={lon}&appid={api_key}&units=metric\" #Setting the \"units\" parameter to get metric units\n",
    "\n",
    "response = requests.get(weather_url)\n",
    "print('Current weather info at the dorms: ', response.json())"
   ]
  },
  {
   "cell_type": "code",
   "execution_count": 17,
   "metadata": {},
   "outputs": [
    {
     "name": "stdout",
     "output_type": "stream",
     "text": [
      "You're taking the bike buddy! \n"
     ]
    }
   ],
   "source": [
    "# Extracting only the wind and rain data\n",
    "\n",
    "if response.status_code == 200:\n",
    "    data = response.json()\n",
    "\n",
    "    wind_speed = data[\"wind\"][\"speed\"]\n",
    "    wind_direction = data[\"wind\"][\"deg\"]\n",
    "    rain_volume = data.get(\"rain\", {}).get(\"1h\", 0)  # Check if rain data is available\n",
    "\n",
    "# Defining Scenarios\n",
    "    if wind_speed > 15:\n",
    "        print(\"Just take the train: Extremely high wind speed.\")\n",
    "\n",
    "    elif wind_speed > 9 and wind_direction >= 45 and wind_direction <= 135:\n",
    "        print(\"You should take the train: Moderate to high wind speed with north wind direction.\")\n",
    "\n",
    "    elif (wind_speed > 6 and rain_volume > 44) or (wind_speed > 10 and rain_volume > 34):\n",
    "        print(\"Don't bother, take the train: Moderate to high wind speed with high rain volume.\")\n",
    "\n",
    "    elif wind_speed > 7 and wind_direction >= 135 and wind_direction <= 225:\n",
    "        print(\"TURBO BOOST! The wind is extremely favorable for the bike route.\")\n",
    "\n",
    "    else:\n",
    "        print(\"You're taking the bike buddy! \")\n",
    "\n",
    "else:\n",
    "    print(\"API request failed. Status code:\", response.status_code)"
   ]
  },
  {
   "cell_type": "markdown",
   "metadata": {},
   "source": [
    "# Final program"
   ]
  },
  {
   "cell_type": "code",
   "execution_count": 37,
   "metadata": {},
   "outputs": [],
   "source": [
    "import tkinter as tk\n",
    "import requests\n",
    "\n",
    "# Bike text art\n",
    "bike_art = r\"\"\"\n",
    "   __o\n",
    "_ \\<_\n",
    "(_)>(_)\n",
    "\"\"\"\n",
    "\n",
    "# Function to fetch weather data and determine the result\n",
    "def check_bike_ride():\n",
    "    api_key = \"fb78a0cbdcf0d89cd463cd6e9650b621\"\n",
    "    lat = 52.3548\n",
    "    lon = 4.9497\n",
    "\n",
    "    # Making the API request\n",
    "    weather_url = f\"https://api.openweathermap.org/data/2.5/weather?lat={lat}&lon={lon}&appid={api_key}&units=metric\"\n",
    "    response = requests.get(weather_url)\n",
    "\n",
    "    if response.status_code == 200:\n",
    "        data = response.json()\n",
    "        wind_speed = data[\"wind\"][\"speed\"]\n",
    "        wind_direction = data[\"wind\"][\"deg\"]\n",
    "        rain_volume = data.get(\"rain\", {}).get(\"1h\", 0)\n",
    "\n",
    "        # Setting the scenarios\n",
    "        if wind_speed > 15:\n",
    "            result_label.config(text=\"Just take the train: Extremely high wind speed.\", font=(\"Helvetica\", 14, \"bold\"))\n",
    "        elif wind_speed > 9 and wind_direction >= 45 and wind_direction <= 135:\n",
    "            result_label.config(text=\"You should take the train: Moderate to high wind speed with north wind direction.\", font=(\"Helvetica\", 14, \"bold\"))\n",
    "        elif (wind_speed > 6 and rain_volume > 44) or (wind_speed > 10 and rain_volume > 34):\n",
    "            result_label.config(text=\"Don't bother, take the train: Moderate to high wind speed with high rain volume.\", font=(\"Helvetica\", 14, \"bold\"))\n",
    "        elif wind_speed > 7 and wind_direction >= 135 and wind_direction <= 225:\n",
    "            result_label.config(text=\"TURBO BOOST! The wind is extremely favorable for the bike route.\", font=(\"Helvetica\", 14, \"bold\"))\n",
    "        else:\n",
    "            result_label.config(text=\"You're taking the bike buddy!\", font=(\"Helvetica\", 14, \"bold\"))\n",
    "    else:\n",
    "        result_label.config(text=\"API request failed. Status code: \" + str(response.status_code), font=(\"Helvetica\", 14, \"bold\"))\n",
    "\n",
    "# Creating a Tkinter window\n",
    "root = tk.Tk()\n",
    "root.title(\"Bike Ride Condition Checker 3000.exe\")\n",
    "\n",
    "# Setting the window size (width x height)\n",
    "window_width = 400  # Set the desired width\n",
    "window_height = 280  # Set the desired height\n",
    "root.geometry(f\"{window_width}x{window_height}\")\n",
    "\n",
    "# Creating a label for the bike art\n",
    "bike_art_label = tk.Label(root, text=bike_art, font=(\"Courier\", 20))\n",
    "bike_art_label.pack()\n",
    "\n",
    "# Creating a button to check bike ride conditions\n",
    "check_button = tk.Button(root, text=\"Press to check bike ride conditions\", command=check_bike_ride, font=(\"Helvetica\", 14, \"italic\"))\n",
    "check_button.pack()\n",
    "\n",
    "# Creating a label for the result (initially empty)\n",
    "result_label = tk.Label(root, text=\"\", font=(\"Helvetica\", 14, \"bold\"))\n",
    "result_label.pack()\n",
    "\n",
    "# Start the Tkinter main loop\n",
    "root.mainloop()\n"
   ]
  }
 ],
 "metadata": {
  "kernelspec": {
   "display_name": "base",
   "language": "python",
   "name": "python3"
  },
  "language_info": {
   "codemirror_mode": {
    "name": "ipython",
    "version": 3
   },
   "file_extension": ".py",
   "mimetype": "text/x-python",
   "name": "python",
   "nbconvert_exporter": "python",
   "pygments_lexer": "ipython3",
   "version": "3.8.16"
  }
 },
 "nbformat": 4,
 "nbformat_minor": 2
}
